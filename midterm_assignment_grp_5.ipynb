{
  "nbformat": 4,
  "nbformat_minor": 0,
  "metadata": {
    "colab": {
      "name": "midterm-assignment-grp#5.ipynb",
      "provenance": [],
      "authorship_tag": "ABX9TyMT18/5AaGtjMAgSkJHWite",
      "include_colab_link": true
    },
    "kernelspec": {
      "name": "python3",
      "display_name": "Python 3"
    },
    "language_info": {
      "name": "python"
    }
  },
  "cells": [
    {
      "cell_type": "markdown",
      "metadata": {
        "id": "view-in-github",
        "colab_type": "text"
      },
      "source": [
        "<a href=\"https://colab.research.google.com/github/ShiaiSkywalker/mid-term-assignment/blob/main/midterm_assignment_grp_5.ipynb\" target=\"_parent\"><img src=\"https://colab.research.google.com/assets/colab-badge.svg\" alt=\"Open In Colab\"/></a>"
      ]
    },
    {
      "cell_type": "code",
      "metadata": {
        "id": "NHBtOQf3ySxk"
      },
      "source": [
        "#warning filter and importing libraries\n",
        "\n",
        "import warnings\n",
        "warnings.filterwarnings(\"ignore\")\n",
        "\n",
        "import numpy as np\n",
        "import pandas as pd\n",
        "import matplotlib.pyplot as plt\n",
        "import seaborn as sns\n",
        "from sklearn.model_selection import train_test_split\n",
        "from sklearn import linear_model\n",
        "from sklearn.metrics import mean_squared_error"
      ],
      "execution_count": 1,
      "outputs": []
    },
    {
      "cell_type": "code",
      "metadata": {
        "id": "_5v-84okzCWD"
      },
      "source": [
        "train = pd.read_csv(\"https://raw.githubusercontent.com/ShiaiSkywalker/mid-term-assignment/main/train.csv\")\n",
        "\n",
        "test = pd.read_csv(\"https://raw.githubusercontent.com/ShiaiSkywalker/mid-term-assignment/main/test.csv\")"
      ],
      "execution_count": 2,
      "outputs": []
    },
    {
      "cell_type": "code",
      "metadata": {
        "colab": {
          "base_uri": "https://localhost:8080/",
          "height": 203
        },
        "id": "7iKuP_DazVIh",
        "outputId": "08c44d15-d2e6-4e9d-cf42-4231c53bcdf8"
      },
      "source": [
        "train.head()"
      ],
      "execution_count": 3,
      "outputs": [
        {
          "output_type": "execute_result",
          "data": {
            "text/html": [
              "<div>\n",
              "<style scoped>\n",
              "    .dataframe tbody tr th:only-of-type {\n",
              "        vertical-align: middle;\n",
              "    }\n",
              "\n",
              "    .dataframe tbody tr th {\n",
              "        vertical-align: top;\n",
              "    }\n",
              "\n",
              "    .dataframe thead th {\n",
              "        text-align: right;\n",
              "    }\n",
              "</style>\n",
              "<table border=\"1\" class=\"dataframe\">\n",
              "  <thead>\n",
              "    <tr style=\"text-align: right;\">\n",
              "      <th></th>\n",
              "      <th>User_ID</th>\n",
              "      <th>Product_ID</th>\n",
              "      <th>Gender</th>\n",
              "      <th>Age</th>\n",
              "      <th>Occupation</th>\n",
              "      <th>City_Category</th>\n",
              "      <th>Stay_In_Current_City_Years</th>\n",
              "      <th>Marital_Status</th>\n",
              "      <th>Product_Category_1</th>\n",
              "      <th>Product_Category_2</th>\n",
              "      <th>Product_Category_3</th>\n",
              "      <th>Purchase</th>\n",
              "    </tr>\n",
              "  </thead>\n",
              "  <tbody>\n",
              "    <tr>\n",
              "      <th>0</th>\n",
              "      <td>1000001</td>\n",
              "      <td>P00069042</td>\n",
              "      <td>F</td>\n",
              "      <td>0-17</td>\n",
              "      <td>10</td>\n",
              "      <td>A</td>\n",
              "      <td>2</td>\n",
              "      <td>0</td>\n",
              "      <td>3</td>\n",
              "      <td>NaN</td>\n",
              "      <td>NaN</td>\n",
              "      <td>8370</td>\n",
              "    </tr>\n",
              "    <tr>\n",
              "      <th>1</th>\n",
              "      <td>1000001</td>\n",
              "      <td>P00248942</td>\n",
              "      <td>F</td>\n",
              "      <td>0-17</td>\n",
              "      <td>10</td>\n",
              "      <td>A</td>\n",
              "      <td>2</td>\n",
              "      <td>0</td>\n",
              "      <td>1</td>\n",
              "      <td>6.0</td>\n",
              "      <td>14.0</td>\n",
              "      <td>15200</td>\n",
              "    </tr>\n",
              "    <tr>\n",
              "      <th>2</th>\n",
              "      <td>1000001</td>\n",
              "      <td>P00087842</td>\n",
              "      <td>F</td>\n",
              "      <td>0-17</td>\n",
              "      <td>10</td>\n",
              "      <td>A</td>\n",
              "      <td>2</td>\n",
              "      <td>0</td>\n",
              "      <td>12</td>\n",
              "      <td>NaN</td>\n",
              "      <td>NaN</td>\n",
              "      <td>1422</td>\n",
              "    </tr>\n",
              "    <tr>\n",
              "      <th>3</th>\n",
              "      <td>1000001</td>\n",
              "      <td>P00085442</td>\n",
              "      <td>F</td>\n",
              "      <td>0-17</td>\n",
              "      <td>10</td>\n",
              "      <td>A</td>\n",
              "      <td>2</td>\n",
              "      <td>0</td>\n",
              "      <td>12</td>\n",
              "      <td>14.0</td>\n",
              "      <td>NaN</td>\n",
              "      <td>1057</td>\n",
              "    </tr>\n",
              "    <tr>\n",
              "      <th>4</th>\n",
              "      <td>1000002</td>\n",
              "      <td>P00285442</td>\n",
              "      <td>M</td>\n",
              "      <td>55+</td>\n",
              "      <td>16</td>\n",
              "      <td>C</td>\n",
              "      <td>4+</td>\n",
              "      <td>0</td>\n",
              "      <td>8</td>\n",
              "      <td>NaN</td>\n",
              "      <td>NaN</td>\n",
              "      <td>7969</td>\n",
              "    </tr>\n",
              "  </tbody>\n",
              "</table>\n",
              "</div>"
            ],
            "text/plain": [
              "   User_ID Product_ID Gender  ... Product_Category_2  Product_Category_3 Purchase\n",
              "0  1000001  P00069042      F  ...                NaN                 NaN     8370\n",
              "1  1000001  P00248942      F  ...                6.0                14.0    15200\n",
              "2  1000001  P00087842      F  ...                NaN                 NaN     1422\n",
              "3  1000001  P00085442      F  ...               14.0                 NaN     1057\n",
              "4  1000002  P00285442      M  ...                NaN                 NaN     7969\n",
              "\n",
              "[5 rows x 12 columns]"
            ]
          },
          "metadata": {},
          "execution_count": 3
        }
      ]
    },
    {
      "cell_type": "code",
      "metadata": {
        "colab": {
          "base_uri": "https://localhost:8080/"
        },
        "id": "rsCJERiAzXmm",
        "outputId": "d84e0b01-45ed-4973-aa23-1357c3599ce1"
      },
      "source": [
        "train.shape"
      ],
      "execution_count": 4,
      "outputs": [
        {
          "output_type": "execute_result",
          "data": {
            "text/plain": [
              "(550068, 12)"
            ]
          },
          "metadata": {},
          "execution_count": 4
        }
      ]
    },
    {
      "cell_type": "code",
      "metadata": {
        "colab": {
          "base_uri": "https://localhost:8080/"
        },
        "id": "PuJdhssszaFi",
        "outputId": "1f56499d-f149-4e46-8426-2a74cf96e9de"
      },
      "source": [
        "train.info()"
      ],
      "execution_count": 5,
      "outputs": [
        {
          "output_type": "stream",
          "name": "stdout",
          "text": [
            "<class 'pandas.core.frame.DataFrame'>\n",
            "RangeIndex: 550068 entries, 0 to 550067\n",
            "Data columns (total 12 columns):\n",
            " #   Column                      Non-Null Count   Dtype  \n",
            "---  ------                      --------------   -----  \n",
            " 0   User_ID                     550068 non-null  int64  \n",
            " 1   Product_ID                  550068 non-null  object \n",
            " 2   Gender                      550068 non-null  object \n",
            " 3   Age                         550068 non-null  object \n",
            " 4   Occupation                  550068 non-null  int64  \n",
            " 5   City_Category               550068 non-null  object \n",
            " 6   Stay_In_Current_City_Years  550068 non-null  object \n",
            " 7   Marital_Status              550068 non-null  int64  \n",
            " 8   Product_Category_1          550068 non-null  int64  \n",
            " 9   Product_Category_2          376430 non-null  float64\n",
            " 10  Product_Category_3          166821 non-null  float64\n",
            " 11  Purchase                    550068 non-null  int64  \n",
            "dtypes: float64(2), int64(5), object(5)\n",
            "memory usage: 50.4+ MB\n"
          ]
        }
      ]
    },
    {
      "cell_type": "code",
      "metadata": {
        "colab": {
          "base_uri": "https://localhost:8080/"
        },
        "id": "4QyTWl8Jzc3A",
        "outputId": "b6f0470d-0343-4897-d7be-c83eeba6bcaa"
      },
      "source": [
        "train.isnull().sum()"
      ],
      "execution_count": 6,
      "outputs": [
        {
          "output_type": "execute_result",
          "data": {
            "text/plain": [
              "User_ID                            0\n",
              "Product_ID                         0\n",
              "Gender                             0\n",
              "Age                                0\n",
              "Occupation                         0\n",
              "City_Category                      0\n",
              "Stay_In_Current_City_Years         0\n",
              "Marital_Status                     0\n",
              "Product_Category_1                 0\n",
              "Product_Category_2            173638\n",
              "Product_Category_3            383247\n",
              "Purchase                           0\n",
              "dtype: int64"
            ]
          },
          "metadata": {},
          "execution_count": 6
        }
      ]
    },
    {
      "cell_type": "code",
      "metadata": {
        "colab": {
          "base_uri": "https://localhost:8080/"
        },
        "id": "iCVVC8TyzfSi",
        "outputId": "e29c5332-4eee-4767-c66b-1cd6cf6dde00"
      },
      "source": [
        "train.dtypes"
      ],
      "execution_count": 7,
      "outputs": [
        {
          "output_type": "execute_result",
          "data": {
            "text/plain": [
              "User_ID                         int64\n",
              "Product_ID                     object\n",
              "Gender                         object\n",
              "Age                            object\n",
              "Occupation                      int64\n",
              "City_Category                  object\n",
              "Stay_In_Current_City_Years     object\n",
              "Marital_Status                  int64\n",
              "Product_Category_1              int64\n",
              "Product_Category_2            float64\n",
              "Product_Category_3            float64\n",
              "Purchase                        int64\n",
              "dtype: object"
            ]
          },
          "metadata": {},
          "execution_count": 7
        }
      ]
    },
    {
      "cell_type": "code",
      "metadata": {
        "colab": {
          "base_uri": "https://localhost:8080/",
          "height": 295
        },
        "id": "ZJ_bIFxtzjC5",
        "outputId": "b6702bed-cbe9-43c1-b49a-0c8f9752b7b6"
      },
      "source": [
        "train.describe()"
      ],
      "execution_count": 8,
      "outputs": [
        {
          "output_type": "execute_result",
          "data": {
            "text/html": [
              "<div>\n",
              "<style scoped>\n",
              "    .dataframe tbody tr th:only-of-type {\n",
              "        vertical-align: middle;\n",
              "    }\n",
              "\n",
              "    .dataframe tbody tr th {\n",
              "        vertical-align: top;\n",
              "    }\n",
              "\n",
              "    .dataframe thead th {\n",
              "        text-align: right;\n",
              "    }\n",
              "</style>\n",
              "<table border=\"1\" class=\"dataframe\">\n",
              "  <thead>\n",
              "    <tr style=\"text-align: right;\">\n",
              "      <th></th>\n",
              "      <th>User_ID</th>\n",
              "      <th>Occupation</th>\n",
              "      <th>Marital_Status</th>\n",
              "      <th>Product_Category_1</th>\n",
              "      <th>Product_Category_2</th>\n",
              "      <th>Product_Category_3</th>\n",
              "      <th>Purchase</th>\n",
              "    </tr>\n",
              "  </thead>\n",
              "  <tbody>\n",
              "    <tr>\n",
              "      <th>count</th>\n",
              "      <td>5.500680e+05</td>\n",
              "      <td>550068.000000</td>\n",
              "      <td>550068.000000</td>\n",
              "      <td>550068.000000</td>\n",
              "      <td>376430.000000</td>\n",
              "      <td>166821.000000</td>\n",
              "      <td>550068.000000</td>\n",
              "    </tr>\n",
              "    <tr>\n",
              "      <th>mean</th>\n",
              "      <td>1.003029e+06</td>\n",
              "      <td>8.076707</td>\n",
              "      <td>0.409653</td>\n",
              "      <td>5.404270</td>\n",
              "      <td>9.842329</td>\n",
              "      <td>12.668243</td>\n",
              "      <td>9263.968713</td>\n",
              "    </tr>\n",
              "    <tr>\n",
              "      <th>std</th>\n",
              "      <td>1.727592e+03</td>\n",
              "      <td>6.522660</td>\n",
              "      <td>0.491770</td>\n",
              "      <td>3.936211</td>\n",
              "      <td>5.086590</td>\n",
              "      <td>4.125338</td>\n",
              "      <td>5023.065394</td>\n",
              "    </tr>\n",
              "    <tr>\n",
              "      <th>min</th>\n",
              "      <td>1.000001e+06</td>\n",
              "      <td>0.000000</td>\n",
              "      <td>0.000000</td>\n",
              "      <td>1.000000</td>\n",
              "      <td>2.000000</td>\n",
              "      <td>3.000000</td>\n",
              "      <td>12.000000</td>\n",
              "    </tr>\n",
              "    <tr>\n",
              "      <th>25%</th>\n",
              "      <td>1.001516e+06</td>\n",
              "      <td>2.000000</td>\n",
              "      <td>0.000000</td>\n",
              "      <td>1.000000</td>\n",
              "      <td>5.000000</td>\n",
              "      <td>9.000000</td>\n",
              "      <td>5823.000000</td>\n",
              "    </tr>\n",
              "    <tr>\n",
              "      <th>50%</th>\n",
              "      <td>1.003077e+06</td>\n",
              "      <td>7.000000</td>\n",
              "      <td>0.000000</td>\n",
              "      <td>5.000000</td>\n",
              "      <td>9.000000</td>\n",
              "      <td>14.000000</td>\n",
              "      <td>8047.000000</td>\n",
              "    </tr>\n",
              "    <tr>\n",
              "      <th>75%</th>\n",
              "      <td>1.004478e+06</td>\n",
              "      <td>14.000000</td>\n",
              "      <td>1.000000</td>\n",
              "      <td>8.000000</td>\n",
              "      <td>15.000000</td>\n",
              "      <td>16.000000</td>\n",
              "      <td>12054.000000</td>\n",
              "    </tr>\n",
              "    <tr>\n",
              "      <th>max</th>\n",
              "      <td>1.006040e+06</td>\n",
              "      <td>20.000000</td>\n",
              "      <td>1.000000</td>\n",
              "      <td>20.000000</td>\n",
              "      <td>18.000000</td>\n",
              "      <td>18.000000</td>\n",
              "      <td>23961.000000</td>\n",
              "    </tr>\n",
              "  </tbody>\n",
              "</table>\n",
              "</div>"
            ],
            "text/plain": [
              "            User_ID     Occupation  ...  Product_Category_3       Purchase\n",
              "count  5.500680e+05  550068.000000  ...       166821.000000  550068.000000\n",
              "mean   1.003029e+06       8.076707  ...           12.668243    9263.968713\n",
              "std    1.727592e+03       6.522660  ...            4.125338    5023.065394\n",
              "min    1.000001e+06       0.000000  ...            3.000000      12.000000\n",
              "25%    1.001516e+06       2.000000  ...            9.000000    5823.000000\n",
              "50%    1.003077e+06       7.000000  ...           14.000000    8047.000000\n",
              "75%    1.004478e+06      14.000000  ...           16.000000   12054.000000\n",
              "max    1.006040e+06      20.000000  ...           18.000000   23961.000000\n",
              "\n",
              "[8 rows x 7 columns]"
            ]
          },
          "metadata": {},
          "execution_count": 8
        }
      ]
    },
    {
      "cell_type": "code",
      "metadata": {
        "colab": {
          "base_uri": "https://localhost:8080/",
          "height": 203
        },
        "id": "Nn_t2pv4zlYI",
        "outputId": "37ab1b1b-be06-4c9f-9228-585621616470"
      },
      "source": [
        "test.head()"
      ],
      "execution_count": 9,
      "outputs": [
        {
          "output_type": "execute_result",
          "data": {
            "text/html": [
              "<div>\n",
              "<style scoped>\n",
              "    .dataframe tbody tr th:only-of-type {\n",
              "        vertical-align: middle;\n",
              "    }\n",
              "\n",
              "    .dataframe tbody tr th {\n",
              "        vertical-align: top;\n",
              "    }\n",
              "\n",
              "    .dataframe thead th {\n",
              "        text-align: right;\n",
              "    }\n",
              "</style>\n",
              "<table border=\"1\" class=\"dataframe\">\n",
              "  <thead>\n",
              "    <tr style=\"text-align: right;\">\n",
              "      <th></th>\n",
              "      <th>User_ID</th>\n",
              "      <th>Product_ID</th>\n",
              "      <th>Gender</th>\n",
              "      <th>Age</th>\n",
              "      <th>Occupation</th>\n",
              "      <th>City_Category</th>\n",
              "      <th>Stay_In_Current_City_Years</th>\n",
              "      <th>Marital_Status</th>\n",
              "      <th>Product_Category_1</th>\n",
              "      <th>Product_Category_2</th>\n",
              "      <th>Product_Category_3</th>\n",
              "    </tr>\n",
              "  </thead>\n",
              "  <tbody>\n",
              "    <tr>\n",
              "      <th>0</th>\n",
              "      <td>1000004</td>\n",
              "      <td>P00128942</td>\n",
              "      <td>M</td>\n",
              "      <td>46-50</td>\n",
              "      <td>7</td>\n",
              "      <td>B</td>\n",
              "      <td>2</td>\n",
              "      <td>1</td>\n",
              "      <td>1</td>\n",
              "      <td>11.0</td>\n",
              "      <td>NaN</td>\n",
              "    </tr>\n",
              "    <tr>\n",
              "      <th>1</th>\n",
              "      <td>1000009</td>\n",
              "      <td>P00113442</td>\n",
              "      <td>M</td>\n",
              "      <td>26-35</td>\n",
              "      <td>17</td>\n",
              "      <td>C</td>\n",
              "      <td>0</td>\n",
              "      <td>0</td>\n",
              "      <td>3</td>\n",
              "      <td>5.0</td>\n",
              "      <td>NaN</td>\n",
              "    </tr>\n",
              "    <tr>\n",
              "      <th>2</th>\n",
              "      <td>1000010</td>\n",
              "      <td>P00288442</td>\n",
              "      <td>F</td>\n",
              "      <td>36-45</td>\n",
              "      <td>1</td>\n",
              "      <td>B</td>\n",
              "      <td>4+</td>\n",
              "      <td>1</td>\n",
              "      <td>5</td>\n",
              "      <td>14.0</td>\n",
              "      <td>NaN</td>\n",
              "    </tr>\n",
              "    <tr>\n",
              "      <th>3</th>\n",
              "      <td>1000010</td>\n",
              "      <td>P00145342</td>\n",
              "      <td>F</td>\n",
              "      <td>36-45</td>\n",
              "      <td>1</td>\n",
              "      <td>B</td>\n",
              "      <td>4+</td>\n",
              "      <td>1</td>\n",
              "      <td>4</td>\n",
              "      <td>9.0</td>\n",
              "      <td>NaN</td>\n",
              "    </tr>\n",
              "    <tr>\n",
              "      <th>4</th>\n",
              "      <td>1000011</td>\n",
              "      <td>P00053842</td>\n",
              "      <td>F</td>\n",
              "      <td>26-35</td>\n",
              "      <td>1</td>\n",
              "      <td>C</td>\n",
              "      <td>1</td>\n",
              "      <td>0</td>\n",
              "      <td>4</td>\n",
              "      <td>5.0</td>\n",
              "      <td>12.0</td>\n",
              "    </tr>\n",
              "  </tbody>\n",
              "</table>\n",
              "</div>"
            ],
            "text/plain": [
              "   User_ID Product_ID  ... Product_Category_2 Product_Category_3\n",
              "0  1000004  P00128942  ...               11.0                NaN\n",
              "1  1000009  P00113442  ...                5.0                NaN\n",
              "2  1000010  P00288442  ...               14.0                NaN\n",
              "3  1000010  P00145342  ...                9.0                NaN\n",
              "4  1000011  P00053842  ...                5.0               12.0\n",
              "\n",
              "[5 rows x 11 columns]"
            ]
          },
          "metadata": {},
          "execution_count": 9
        }
      ]
    },
    {
      "cell_type": "code",
      "metadata": {
        "colab": {
          "base_uri": "https://localhost:8080/"
        },
        "id": "rNnzi2PMzoOe",
        "outputId": "10c63db2-fc37-4d46-a058-7b362b976a49"
      },
      "source": [
        "test.shape"
      ],
      "execution_count": 10,
      "outputs": [
        {
          "output_type": "execute_result",
          "data": {
            "text/plain": [
              "(233599, 11)"
            ]
          },
          "metadata": {},
          "execution_count": 10
        }
      ]
    },
    {
      "cell_type": "code",
      "metadata": {
        "colab": {
          "base_uri": "https://localhost:8080/"
        },
        "id": "6g1yhJk8zpNI",
        "outputId": "d5cac47a-e4cf-4234-e4ec-1f5fed116b96"
      },
      "source": [
        "test.info()"
      ],
      "execution_count": 11,
      "outputs": [
        {
          "output_type": "stream",
          "name": "stdout",
          "text": [
            "<class 'pandas.core.frame.DataFrame'>\n",
            "RangeIndex: 233599 entries, 0 to 233598\n",
            "Data columns (total 11 columns):\n",
            " #   Column                      Non-Null Count   Dtype  \n",
            "---  ------                      --------------   -----  \n",
            " 0   User_ID                     233599 non-null  int64  \n",
            " 1   Product_ID                  233599 non-null  object \n",
            " 2   Gender                      233599 non-null  object \n",
            " 3   Age                         233599 non-null  object \n",
            " 4   Occupation                  233599 non-null  int64  \n",
            " 5   City_Category               233599 non-null  object \n",
            " 6   Stay_In_Current_City_Years  233599 non-null  object \n",
            " 7   Marital_Status              233599 non-null  int64  \n",
            " 8   Product_Category_1          233599 non-null  int64  \n",
            " 9   Product_Category_2          161255 non-null  float64\n",
            " 10  Product_Category_3          71037 non-null   float64\n",
            "dtypes: float64(2), int64(4), object(5)\n",
            "memory usage: 19.6+ MB\n"
          ]
        }
      ]
    },
    {
      "cell_type": "code",
      "metadata": {
        "colab": {
          "base_uri": "https://localhost:8080/"
        },
        "id": "zftVrdOKzq8H",
        "outputId": "8669ae70-e0cc-4e48-bf51-58363182295f"
      },
      "source": [
        "test.isnull().sum()"
      ],
      "execution_count": 12,
      "outputs": [
        {
          "output_type": "execute_result",
          "data": {
            "text/plain": [
              "User_ID                            0\n",
              "Product_ID                         0\n",
              "Gender                             0\n",
              "Age                                0\n",
              "Occupation                         0\n",
              "City_Category                      0\n",
              "Stay_In_Current_City_Years         0\n",
              "Marital_Status                     0\n",
              "Product_Category_1                 0\n",
              "Product_Category_2             72344\n",
              "Product_Category_3            162562\n",
              "dtype: int64"
            ]
          },
          "metadata": {},
          "execution_count": 12
        }
      ]
    },
    {
      "cell_type": "markdown",
      "metadata": {
        "id": "ihzPSDyM0kAZ"
      },
      "source": [
        "EXPLORATORY ANALYSIS"
      ]
    },
    {
      "cell_type": "code",
      "metadata": {
        "colab": {
          "base_uri": "https://localhost:8080/"
        },
        "id": "Wd5jdesT0juh",
        "outputId": "5b326dd0-85e8-4295-8211-b143001aa631"
      },
      "source": [
        "train['Age'].value_counts()"
      ],
      "execution_count": 13,
      "outputs": [
        {
          "output_type": "execute_result",
          "data": {
            "text/plain": [
              "26-35    219587\n",
              "36-45    110013\n",
              "18-25     99660\n",
              "46-50     45701\n",
              "51-55     38501\n",
              "55+       21504\n",
              "0-17      15102\n",
              "Name: Age, dtype: int64"
            ]
          },
          "metadata": {},
          "execution_count": 13
        }
      ]
    },
    {
      "cell_type": "code",
      "metadata": {
        "colab": {
          "base_uri": "https://localhost:8080/",
          "height": 351
        },
        "id": "TqyZjmMo0H6Z",
        "outputId": "49d763cc-bb18-4390-f61b-09466c908207"
      },
      "source": [
        "plt.figure(figsize=(10,5))\n",
        "sns.countplot(train['Age'])"
      ],
      "execution_count": 14,
      "outputs": [
        {
          "output_type": "execute_result",
          "data": {
            "text/plain": [
              "<matplotlib.axes._subplots.AxesSubplot at 0x7f77a5420350>"
            ]
          },
          "metadata": {},
          "execution_count": 14
        },
        {
          "output_type": "display_data",
          "data": {
            "image/png": "[encoded data removed]",
            "text/plain": [
              "<Figure size 720x360 with 1 Axes>"
            ]
          },
          "metadata": {
            "needs_background": "light"
          }
        }
      ]
    },
    {
      "cell_type": "code",
      "metadata": {
        "colab": {
          "base_uri": "https://localhost:8080/",
          "height": 352
        },
        "id": "RDY5waSl0uN6",
        "outputId": "289fd996-d588-49f6-88d9-1f5a35ff59ba"
      },
      "source": [
        "plt.figure(figsize=(10,5))\n",
        "sns.countplot(train['City_Category'])"
      ],
      "execution_count": 15,
      "outputs": [
        {
          "output_type": "execute_result",
          "data": {
            "text/plain": [
              "<matplotlib.axes._subplots.AxesSubplot at 0x7f77a5410f10>"
            ]
          },
          "metadata": {},
          "execution_count": 15
        },
        {
          "output_type": "display_data",
          "data": {
            "image/png": "[encoded data removed]",
            "text/plain": [
              "<Figure size 720x360 with 1 Axes>"
            ]
          },
          "metadata": {
            "needs_background": "light"
          }
        }
      ]
    },
    {
      "cell_type": "code",
      "metadata": {
        "colab": {
          "base_uri": "https://localhost:8080/",
          "height": 352
        },
        "id": "hH7qKKIv0vkV",
        "outputId": "6c9be90c-0ae8-4fc7-b1c5-b28336b77514"
      },
      "source": [
        "plt.figure(figsize=(10,5))\n",
        "sns.countplot(train['Stay_In_Current_City_Years'])"
      ],
      "execution_count": 16,
      "outputs": [
        {
          "output_type": "execute_result",
          "data": {
            "text/plain": [
              "<matplotlib.axes._subplots.AxesSubplot at 0x7f77a5325710>"
            ]
          },
          "metadata": {},
          "execution_count": 16
        },
        {
          "output_type": "display_data",
          "data": {
            "image/png": "[encoded data removed]",
            "text/plain": [
              "<Figure size 720x360 with 1 Axes>"
            ]
          },
          "metadata": {
            "needs_background": "light"
          }
        }
      ]
    },
    {
      "cell_type": "code",
      "metadata": {
        "colab": {
          "base_uri": "https://localhost:8080/",
          "height": 225
        },
        "id": "zc7nW2TH5Kda",
        "outputId": "61fcfb1f-f75d-47ca-c785-51eb86dc259f"
      },
      "source": [
        "g = sns.FacetGrid(train,col=\"Stay_In_Current_City_Years\")\n",
        "g.map(sns.barplot, \"Marital_Status\", \"Purchase\");"
      ],
      "execution_count": 17,
      "outputs": [
        {
          "output_type": "display_data",
          "data": {
            "image/png": "[encoded data removed]",
            "text/plain": [
              "<Figure size 1080x216 with 5 Axes>"
            ]
          },
          "metadata": {
            "needs_background": "light"
          }
        }
      ]
    },
    {
      "cell_type": "code",
      "metadata": {
        "colab": {
          "base_uri": "https://localhost:8080/",
          "height": 225
        },
        "id": "p5udOt635LM5",
        "outputId": "4d7b139b-cebf-4323-e6bb-6f7a5b19d495"
      },
      "source": [
        "g = sns.FacetGrid(train,col=\"City_Category\")\n",
        "g.map(sns.barplot, \"Gender\", \"Purchase\");"
      ],
      "execution_count": 18,
      "outputs": [
        {
          "output_type": "display_data",
          "data": {
            "image/png": "[encoded data removed]",
            "text/plain": [
              "<Figure size 648x216 with 3 Axes>"
            ]
          },
          "metadata": {
            "needs_background": "light"
          }
        }
      ]
    },
    {
      "cell_type": "code",
      "metadata": {
        "colab": {
          "base_uri": "https://localhost:8080/",
          "height": 618
        },
        "id": "PyhxhPls5LUJ",
        "outputId": "bd95cf2d-b961-4246-e839-181fce3cac9d"
      },
      "source": [
        "g = sns.FacetGrid(train,col=\"Age\",row=\"City_Category\")\n",
        "g.map(sns.barplot, \"Gender\", \"Purchase\");"
      ],
      "execution_count": 19,
      "outputs": [
        {
          "output_type": "display_data",
          "data": {
            "image/png": "[encoded data removed]",
            "text/plain": [
              "<Figure size 1512x648 with 21 Axes>"
            ]
          },
          "metadata": {
            "needs_background": "light"
          }
        }
      ]
    },
    {
      "cell_type": "code",
      "metadata": {
        "colab": {
          "base_uri": "https://localhost:8080/"
        },
        "id": "Prh1ZLMh0vwq",
        "outputId": "f6b94d4a-79d4-4c4b-d4b8-bc95e517d5ae"
      },
      "source": [
        "train['Occupation'].unique()"
      ],
      "execution_count": 20,
      "outputs": [
        {
          "output_type": "execute_result",
          "data": {
            "text/plain": [
              "array([10, 16, 15,  7, 20,  9,  1, 12, 17,  0,  3,  4, 11,  8, 19,  2, 18,\n",
              "        5, 14, 13,  6])"
            ]
          },
          "metadata": {},
          "execution_count": 20
        }
      ]
    },
    {
      "cell_type": "code",
      "metadata": {
        "colab": {
          "base_uri": "https://localhost:8080/"
        },
        "id": "GsMCL6Oi0v5e",
        "outputId": "b08d5841-5e12-4e9e-98fa-2ce7e6a090b7"
      },
      "source": [
        "train['City_Category'].unique()"
      ],
      "execution_count": 21,
      "outputs": [
        {
          "output_type": "execute_result",
          "data": {
            "text/plain": [
              "array(['A', 'C', 'B'], dtype=object)"
            ]
          },
          "metadata": {},
          "execution_count": 21
        }
      ]
    },
    {
      "cell_type": "code",
      "metadata": {
        "colab": {
          "base_uri": "https://localhost:8080/"
        },
        "id": "Qy8WoieN0wBI",
        "outputId": "667f0270-cc9e-4f45-8032-99fe372a5b15"
      },
      "source": [
        "train['Stay_In_Current_City_Years'].unique()"
      ],
      "execution_count": 22,
      "outputs": [
        {
          "output_type": "execute_result",
          "data": {
            "text/plain": [
              "array(['2', '4+', '3', '1', '0'], dtype=object)"
            ]
          },
          "metadata": {},
          "execution_count": 22
        }
      ]
    },
    {
      "cell_type": "code",
      "metadata": {
        "colab": {
          "base_uri": "https://localhost:8080/"
        },
        "id": "FEitEjs9007m",
        "outputId": "b559dceb-dcfa-40d6-b58d-340637999f23"
      },
      "source": [
        "print(train['Product_Category_1'].unique())\n",
        "print(train['Product_Category_2'].unique())\n",
        "print(train['Product_Category_3'].unique())"
      ],
      "execution_count": 23,
      "outputs": [
        {
          "output_type": "stream",
          "name": "stdout",
          "text": [
            "[ 3  1 12  8  5  4  2  6 14 11 13 15  7 16 18 10 17  9 20 19]\n",
            "[nan  6. 14.  2.  8. 15. 16. 11.  5.  3.  4. 12.  9. 10. 17. 13.  7. 18.]\n",
            "[nan 14. 17.  5.  4. 16. 15.  8.  9. 13.  6. 12.  3. 18. 11. 10.]\n"
          ]
        }
      ]
    },
    {
      "cell_type": "markdown",
      "metadata": {
        "id": "n7F-WJS_09Yz"
      },
      "source": [
        "PRE-PROCESSING"
      ]
    },
    {
      "cell_type": "code",
      "metadata": {
        "id": "w-TFxzgh01BC"
      },
      "source": [
        "from sklearn.preprocessing import StandardScaler\n",
        "from sklearn.preprocessing import LabelEncoder\n",
        "train['User_ID'] = train['User_ID'] - 1000000\n",
        "test['User_ID'] = test['User_ID'] - 1000000\n",
        "\n",
        "enc = LabelEncoder()\n",
        "train['User_ID'] = enc.fit_transform(train['User_ID'])\n",
        "test['User_ID'] = enc.transform(test['User_ID'])"
      ],
      "execution_count": 24,
      "outputs": []
    },
    {
      "cell_type": "code",
      "metadata": {
        "id": "ENVa7DlL01G-"
      },
      "source": [
        "train['Product_ID'] = train['Product_ID'].str.replace('P00', '')\n",
        "test['Product_ID'] = test['Product_ID'].str.replace('P00', '')\n",
        "\n",
        "scaler = StandardScaler()\n",
        "train['Product_ID'] = scaler.fit_transform(train['Product_ID'].values.reshape(-1, 1))\n",
        "test['Product_ID'] = scaler.transform(test['Product_ID'].values.reshape(-1, 1))"
      ],
      "execution_count": 25,
      "outputs": []
    },
    {
      "cell_type": "code",
      "metadata": {
        "id": "9cTQavzt01NM"
      },
      "source": [
        "categorical_col = ['Gender', 'City_Category']\n",
        "numerical_col = ['Age', 'Occupation', 'Stay_In_Current_City_Years', 'Product_Category_1', \n",
        "           'Product_Category_2', 'Product_Category_3']"
      ],
      "execution_count": 26,
      "outputs": []
    },
    {
      "cell_type": "code",
      "metadata": {
        "id": "nEPImon01KhA"
      },
      "source": [
        "train['Age']=train['Age'].replace('0-17',17)\n",
        "train['Age']=train['Age'].replace('18-25',25)\n",
        "train['Age']=train['Age'].replace('26-35',35)\n",
        "train['Age']=train['Age'].replace('36-45',45)\n",
        "train['Age']=train['Age'].replace('46-50',50)\n",
        "train['Age']=train['Age'].replace('51-55',55)\n",
        "train['Age']=train['Age'].replace('55+',60)"
      ],
      "execution_count": 27,
      "outputs": []
    },
    {
      "cell_type": "code",
      "metadata": {
        "id": "fwzQNKAZ1KnZ"
      },
      "source": [
        "test['Age']=test['Age'].replace('0-17',17)\n",
        "test['Age']=test['Age'].replace('18-25',25)\n",
        "test['Age']=test['Age'].replace('26-35',35)\n",
        "test['Age']=test['Age'].replace('36-45',45)\n",
        "test['Age']=test['Age'].replace('46-50',50)\n",
        "test['Age']=test['Age'].replace('51-55',55)\n",
        "test['Age']=test['Age'].replace('55+',60)"
      ],
      "execution_count": 28,
      "outputs": []
    },
    {
      "cell_type": "code",
      "metadata": {
        "id": "GErbtNV71Kth"
      },
      "source": [
        "train['Stay_In_Current_City_Years']=train['Stay_In_Current_City_Years'].replace('4+',4)\n",
        "test['Stay_In_Current_City_Years']=test['Stay_In_Current_City_Years'].replace('4+',4)"
      ],
      "execution_count": 29,
      "outputs": []
    },
    {
      "cell_type": "code",
      "metadata": {
        "id": "85AmuwSu1Ky5"
      },
      "source": [
        "#filling missing values with 0\n",
        "\n",
        "train = train.fillna(0)\n",
        "test = test.fillna(0)"
      ],
      "execution_count": 30,
      "outputs": []
    },
    {
      "cell_type": "markdown",
      "metadata": {
        "id": "HZ_CHd5G1X9p"
      },
      "source": [
        "ENCODING"
      ]
    },
    {
      "cell_type": "code",
      "metadata": {
        "id": "k7cz0xPj1W4E"
      },
      "source": [
        "#categorical columns\n",
        "\n",
        "encoder = LabelEncoder()\n",
        "\n",
        "for col in categorical_col:\n",
        "    train[col] = encoder.fit_transform(train[col])\n",
        "    test[col] = encoder.transform(test[col])"
      ],
      "execution_count": 31,
      "outputs": []
    },
    {
      "cell_type": "code",
      "metadata": {
        "id": "307S8tr31W-C"
      },
      "source": [
        "#scaling numerical columns\n",
        "\n",
        "scaler = StandardScaler()\n",
        "\n",
        "for col in numerical_col:\n",
        "    train[col] = scaler.fit_transform(train[col].values.reshape(-1, 1))\n",
        "    test[col] = scaler.transform(test[col].values.reshape(-1, 1))"
      ],
      "execution_count": 32,
      "outputs": []
    },
    {
      "cell_type": "code",
      "metadata": {
        "colab": {
          "base_uri": "https://localhost:8080/",
          "height": 203
        },
        "id": "6ImYT1g71XDo",
        "outputId": "0a2b2c9f-8385-4d50-bc4f-92b9f9853a61"
      },
      "source": [
        "train.head()"
      ],
      "execution_count": 33,
      "outputs": [
        {
          "output_type": "execute_result",
          "data": {
            "text/html": [
              "<div>\n",
              "<style scoped>\n",
              "    .dataframe tbody tr th:only-of-type {\n",
              "        vertical-align: middle;\n",
              "    }\n",
              "\n",
              "    .dataframe tbody tr th {\n",
              "        vertical-align: top;\n",
              "    }\n",
              "\n",
              "    .dataframe thead th {\n",
              "        text-align: right;\n",
              "    }\n",
              "</style>\n",
              "<table border=\"1\" class=\"dataframe\">\n",
              "  <thead>\n",
              "    <tr style=\"text-align: right;\">\n",
              "      <th></th>\n",
              "      <th>User_ID</th>\n",
              "      <th>Product_ID</th>\n",
              "      <th>Gender</th>\n",
              "      <th>Age</th>\n",
              "      <th>Occupation</th>\n",
              "      <th>City_Category</th>\n",
              "      <th>Stay_In_Current_City_Years</th>\n",
              "      <th>Marital_Status</th>\n",
              "      <th>Product_Category_1</th>\n",
              "      <th>Product_Category_2</th>\n",
              "      <th>Product_Category_3</th>\n",
              "      <th>Purchase</th>\n",
              "    </tr>\n",
              "  </thead>\n",
              "  <tbody>\n",
              "    <tr>\n",
              "      <th>0</th>\n",
              "      <td>0</td>\n",
              "      <td>-1.028774</td>\n",
              "      <td>0</td>\n",
              "      <td>-2.059570</td>\n",
              "      <td>0.294864</td>\n",
              "      <td>0</td>\n",
              "      <td>0.109801</td>\n",
              "      <td>0</td>\n",
              "      <td>-0.610809</td>\n",
              "      <td>-1.083654</td>\n",
              "      <td>-0.614641</td>\n",
              "      <td>8370</td>\n",
              "    </tr>\n",
              "    <tr>\n",
              "      <th>1</th>\n",
              "      <td>0</td>\n",
              "      <td>0.722139</td>\n",
              "      <td>0</td>\n",
              "      <td>-2.059570</td>\n",
              "      <td>0.294864</td>\n",
              "      <td>0</td>\n",
              "      <td>0.109801</td>\n",
              "      <td>0</td>\n",
              "      <td>-1.118912</td>\n",
              "      <td>-0.118323</td>\n",
              "      <td>1.625106</td>\n",
              "      <td>15200</td>\n",
              "    </tr>\n",
              "    <tr>\n",
              "      <th>2</th>\n",
              "      <td>0</td>\n",
              "      <td>-0.845799</td>\n",
              "      <td>0</td>\n",
              "      <td>-2.059570</td>\n",
              "      <td>0.294864</td>\n",
              "      <td>0</td>\n",
              "      <td>0.109801</td>\n",
              "      <td>0</td>\n",
              "      <td>1.675656</td>\n",
              "      <td>-1.083654</td>\n",
              "      <td>-0.614641</td>\n",
              "      <td>1422</td>\n",
              "    </tr>\n",
              "    <tr>\n",
              "      <th>3</th>\n",
              "      <td>0</td>\n",
              "      <td>-0.869157</td>\n",
              "      <td>0</td>\n",
              "      <td>-2.059570</td>\n",
              "      <td>0.294864</td>\n",
              "      <td>0</td>\n",
              "      <td>0.109801</td>\n",
              "      <td>0</td>\n",
              "      <td>1.675656</td>\n",
              "      <td>1.168785</td>\n",
              "      <td>-0.614641</td>\n",
              "      <td>1057</td>\n",
              "    </tr>\n",
              "    <tr>\n",
              "      <th>4</th>\n",
              "      <td>1</td>\n",
              "      <td>1.077382</td>\n",
              "      <td>1</td>\n",
              "      <td>2.094842</td>\n",
              "      <td>1.214734</td>\n",
              "      <td>2</td>\n",
              "      <td>1.660861</td>\n",
              "      <td>0</td>\n",
              "      <td>0.659449</td>\n",
              "      <td>-1.083654</td>\n",
              "      <td>-0.614641</td>\n",
              "      <td>7969</td>\n",
              "    </tr>\n",
              "  </tbody>\n",
              "</table>\n",
              "</div>"
            ],
            "text/plain": [
              "   User_ID  Product_ID  ...  Product_Category_3  Purchase\n",
              "0        0   -1.028774  ...           -0.614641      8370\n",
              "1        0    0.722139  ...            1.625106     15200\n",
              "2        0   -0.845799  ...           -0.614641      1422\n",
              "3        0   -0.869157  ...           -0.614641      1057\n",
              "4        1    1.077382  ...           -0.614641      7969\n",
              "\n",
              "[5 rows x 12 columns]"
            ]
          },
          "metadata": {},
          "execution_count": 33
        }
      ]
    },
    {
      "cell_type": "markdown",
      "metadata": {
        "id": "oSrcxli71rRm"
      },
      "source": [
        "TRAINING MODEL"
      ]
    },
    {
      "cell_type": "code",
      "metadata": {
        "id": "x6uo_hr_1XJs"
      },
      "source": [
        "X = train.drop(['Purchase'], axis=1)\n",
        "y = train[['Purchase']]\n",
        "X_test = test\n",
        "X_train, X_val, y_train, y_val = train_test_split(X, y, test_size=0.20, random_state=42, shuffle=True)"
      ],
      "execution_count": 34,
      "outputs": []
    },
    {
      "cell_type": "markdown",
      "metadata": {
        "id": "ldwdBdgT1zXH"
      },
      "source": [
        "REGRESSION"
      ]
    },
    {
      "cell_type": "code",
      "metadata": {
        "id": "rUmJKhVb1yay"
      },
      "source": [
        "reg=linear_model.LinearRegression()\n",
        "lm_model=reg.fit(X_train,y_train)\n",
        "pred=lm_model.predict(X_val)"
      ],
      "execution_count": 35,
      "outputs": []
    },
    {
      "cell_type": "code",
      "metadata": {
        "colab": {
          "base_uri": "https://localhost:8080/"
        },
        "id": "oD7dZFnr1ygZ",
        "outputId": "3dba511d-56a2-42bf-ef3c-d36180589bbe"
      },
      "source": [
        "np.sqrt(mean_squared_error(y_val,pred))"
      ],
      "execution_count": 36,
      "outputs": [
        {
          "output_type": "execute_result",
          "data": {
            "text/plain": [
              "4609.769799176727"
            ]
          },
          "metadata": {},
          "execution_count": 36
        }
      ]
    },
    {
      "cell_type": "code",
      "metadata": {
        "colab": {
          "base_uri": "https://localhost:8080/",
          "height": 737
        },
        "id": "EadfOrN11yl5",
        "outputId": "7440d98b-de55-4bcd-ce98-a7f42431bb6d"
      },
      "source": [
        "plt.figure(figsize=(15,10))\n",
        "sns.heatmap(\n",
        "    train.corr(),\n",
        "    annot=True\n",
        ")"
      ],
      "execution_count": 37,
      "outputs": [
        {
          "output_type": "execute_result",
          "data": {
            "text/plain": [
              "<matplotlib.axes._subplots.AxesSubplot at 0x7f779c473890>"
            ]
          },
          "metadata": {},
          "execution_count": 37
        },
        {
          "output_type": "display_data",
          "data": {
            "image/png": "[encoded data removed]",
            "text/plain": [
              "<Figure size 1080x720 with 2 Axes>"
            ]
          },
          "metadata": {
            "needs_background": "light"
          }
        }
      ]
    }
  ]
}